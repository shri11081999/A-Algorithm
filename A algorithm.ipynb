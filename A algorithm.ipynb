{
 "cells": [
  {
   "cell_type": "code",
   "execution_count": 1,
   "id": "4b379109-ab78-40d0-a9da-411fcdbcf200",
   "metadata": {},
   "outputs": [],
   "source": [
    "import heapq\n",
    "import math"
   ]
  },
  {
   "cell_type": "code",
   "execution_count": 3,
   "id": "bb7352bd-f77c-498e-b299-a7721036d215",
   "metadata": {},
   "outputs": [],
   "source": [
    "# Define the grid size\n",
    "grid_size = 8"
   ]
  },
  {
   "cell_type": "code",
   "execution_count": 5,
   "id": "970d29d7-1cfd-4587-accf-99759ea8a7f8",
   "metadata": {},
   "outputs": [],
   "source": [
    "# Define the barriers with a high movement cost\n",
    "barriers = [(2, 4), (2, 5), (2, 6), (3, 6), (4, 6), (5, 6), (5, 5), (5, 4), (5, 3), (5, 2), (4, 2), (3, 2)]\n",
    "barrier_cost = 100"
   ]
  },
  {
   "cell_type": "code",
   "execution_count": 7,
   "id": "ecc38001-c1c6-4070-8f51-8c6f0ef58691",
   "metadata": {},
   "outputs": [],
   "source": [
    "# Define start and goal positions\n",
    "start = (0, 0)\n",
    "goal = (7, 7)"
   ]
  },
  {
   "cell_type": "code",
   "execution_count": 9,
   "id": "71395701-2fb0-43d1-a805-6a3f7a931987",
   "metadata": {},
   "outputs": [],
   "source": [
    "# Possible movements (including diagonals)\n",
    "movements = [(-1, 0), (1, 0), (0, -1), (0, 1), (-1, -1), (-1, 1), (1, -1), (1, 1)]"
   ]
  },
  {
   "cell_type": "code",
   "execution_count": 11,
   "id": "379180a3-d17b-4686-8433-16707fdd5a10",
   "metadata": {},
   "outputs": [],
   "source": [
    "def heuristic(a, b):\n",
    "    \"\"\"Calculate the Euclidean distance heuristic.\"\"\"\n",
    "    return math.sqrt((a[0] - b[0]) ** 2 + (a[1] - b[1]) ** 2)"
   ]
  },
  {
   "cell_type": "code",
   "execution_count": 30,
   "id": "eed8e828-f6f0-4b20-8e8b-717004598eed",
   "metadata": {},
   "outputs": [
    {
     "name": "stdout",
     "output_type": "stream",
     "text": [
      "Path found with cost 11: [(1, 1), (2, 2), (3, 1), (4, 1), (5, 1), (6, 2), (7, 3), (7, 4), (7, 5), (7, 6), (7, 7)]\n",
      "S . . . . . . . \n",
      ". x . . . . . . \n",
      ". . x . █ █ █ . \n",
      ". x █ . . . █ . \n",
      ". x █ . . . █ . \n",
      ". x █ █ █ █ █ . \n",
      ". . x . . . . . \n",
      ". . . x x x x G \n"
     ]
    }
   ],
   "source": [
    "def a_star_search(start, goal):\n",
    "    \"\"\"A* algorithm implementation.\"\"\"\n",
    "    open_list = []\n",
    "    heapq.heappush(open_list, (0, start))  # Priority queue with (f, position)\n",
    "    came_from = {}\n",
    "    g_score = {start: 0}\n",
    "    \n",
    "    while open_list:\n",
    "        _, current = heapq.heappop(open_list)\n",
    "        \n",
    "        # If we reached the goal, reconstruct the path\n",
    "        if current == goal:\n",
    "            path = []\n",
    "            while current in came_from:\n",
    "                path.append(current)\n",
    "                current = came_from[current]\n",
    "            path.reverse()\n",
    "            return path, g_score[goal]\n",
    "        \n",
    "        # Explore neighbors\n",
    "        for move in movements:\n",
    "            neighbor = (current[0] + move[0], current[1] + move[1])\n",
    "            if 0 <= neighbor[0] < grid_size and 0 <= neighbor[1] < grid_size:\n",
    "                # Calculate movement cost\n",
    "                tentative_g_score = g_score[current] + 1\n",
    "                if neighbor in barriers:\n",
    "                    tentative_g_score += barrier_cost\n",
    "\n",
    "                # If this path to the neighbor is better, record it\n",
    "                if neighbor not in g_score or tentative_g_score < g_score[neighbor]:\n",
    "                    came_from[neighbor] = current\n",
    "                    g_score[neighbor] = tentative_g_score\n",
    "                    f_score = tentative_g_score + heuristic(neighbor, goal)\n",
    "                    heapq.heappush(open_list, (f_score, neighbor))\n",
    "    \n",
    "    return None, float('inf')  # No path found\n",
    "\n",
    "def draw_grid(path):\n",
    "    \"\"\"Draw the grid with the path and barriers.\"\"\"\n",
    "    for i in range(grid_size):\n",
    "        for j in range(grid_size):\n",
    "            if (i, j) in barriers:\n",
    "                print(\"█\", end=\" \")\n",
    "            elif (i, j) == start:\n",
    "                print(\"S\", end=\" \")  # Start\n",
    "            elif (i, j) == goal:\n",
    "                print(\"G\", end=\" \")  # Goal\n",
    "            elif (i, j) in path:\n",
    "                print(\"x\", end=\" \")  # Path\n",
    "            else:\n",
    "                print(\".\", end=\" \")\n",
    "        print()\n",
    "\n",
    "if __name__ == \"__main__\":\n",
    "    path, cost = a_star_search(start, goal)\n",
    "    if path:\n",
    "        print(f\"Path found with cost {cost}: {path}\")\n",
    "        draw_grid(path)\n",
    "    else:\n",
    "        print(\"No path found.\")"
   ]
  },
  {
   "cell_type": "markdown",
   "id": "9f375fca-44b3-41e8-bf5a-24f3b4f051e8",
   "metadata": {},
   "source": [
    "# pygame application"
   ]
  },
  {
   "cell_type": "code",
   "execution_count": 125,
   "id": "714db642-3441-449a-9473-db4fc937edb2",
   "metadata": {},
   "outputs": [],
   "source": [
    "import pygame\n",
    "import math\n",
    "import heapq"
   ]
  },
  {
   "cell_type": "code",
   "execution_count": 127,
   "id": "82f04a70-9623-4a4f-b5eb-127039dc2b6a",
   "metadata": {},
   "outputs": [
    {
     "data": {
      "text/plain": [
       "(5, 0)"
      ]
     },
     "execution_count": 127,
     "metadata": {},
     "output_type": "execute_result"
    }
   ],
   "source": [
    "# Initialize pygame\n",
    "pygame.init()"
   ]
  },
  {
   "cell_type": "code",
   "execution_count": 129,
   "id": "2c2100ff-66b2-4dee-b676-737d8f2d1e7f",
   "metadata": {},
   "outputs": [],
   "source": [
    "# Screen dimensions\n",
    "width = 800\n",
    "rows = 50  # More rows for finer grid\n",
    "window = pygame.display.set_mode((width, width))\n",
    "pygame.display.set_caption(\"A* Path Finding Algorithm (DSA Project)\")"
   ]
  },
  {
   "cell_type": "code",
   "execution_count": 131,
   "id": "bdb9e082-79cd-41d0-9d7f-f9310bc51002",
   "metadata": {},
   "outputs": [],
   "source": [
    "# Colors\n",
    "WHITE = (255, 255, 255)\n",
    "BLACK = (0, 0, 0)\n",
    "RED = (255, 0, 0)\n",
    "GREEN = (0, 255, 0)\n",
    "BLUE = (0, 0, 255)\n",
    "PURPLE = (128, 0, 128)\n",
    "ORANGE = (255, 165, 0)\n",
    "GRAY = (128, 128, 128)"
   ]
  },
  {
   "cell_type": "code",
   "execution_count": 133,
   "id": "eb5a83e4-fef2-43f2-96dd-e229efdc87ae",
   "metadata": {},
   "outputs": [],
   "source": [
    "# Define grid size and barriers\n",
    "grid_size = 50\n",
    "barriers = [(10, 10), (10, 11), (10, 12), (11, 12), (12, 12), (13, 12), (14, 12), (15, 12), (16, 12), (17, 12), (18, 12)]\n",
    "start = (5, 5)\n",
    "goal = (45, 45)"
   ]
  },
  {
   "cell_type": "code",
   "execution_count": 135,
   "id": "ae163c0a-20af-492d-80f7-186ae842ddda",
   "metadata": {},
   "outputs": [],
   "source": [
    "# Node class representing each square in the grid\n",
    "class Node:\n",
    "    def __init__(self, row, col, width):\n",
    "        self.row = row\n",
    "        self.col = col\n",
    "        self.x = row * width\n",
    "        self.y = col * width\n",
    "        self.color = WHITE\n",
    "        self.neighbors = []\n",
    "        self.width = width\n",
    "        self.f_score = float('inf')  # Add f_score attribute for comparison\n",
    "\n",
    "    def get_pos(self):\n",
    "        return self.row, self.col\n",
    "\n",
    "    def is_closed(self):\n",
    "        return self.color == RED\n",
    "\n",
    "    def is_open(self):\n",
    "        return self.color == GREEN\n",
    "\n",
    "    def is_barrier(self):\n",
    "        return self.color == BLACK\n",
    "\n",
    "    def is_start(self):\n",
    "        return self.color == ORANGE\n",
    "\n",
    "    def is_goal(self):\n",
    "        return self.color == BLUE\n",
    "\n",
    "    def reset(self):\n",
    "        self.color = WHITE\n",
    "\n",
    "    def make_start(self):\n",
    "        self.color = ORANGE\n",
    "\n",
    "    def make_goal(self):\n",
    "        self.color = BLUE\n",
    "\n",
    "    def make_barrier(self):\n",
    "        self.color = BLACK\n",
    "\n",
    "    def make_closed(self):\n",
    "        self.color = RED\n",
    "\n",
    "    def make_open(self):\n",
    "        self.color = GREEN\n",
    "\n",
    "    def make_path(self):\n",
    "        self.color = PURPLE\n",
    "\n",
    "    def draw(self, win):\n",
    "        pygame.draw.rect(win, self.color, (self.x, self.y, self.width, self.width))\n",
    "\n",
    "    def update_neighbors(self, grid):\n",
    "        self.neighbors = []\n",
    "        # Down\n",
    "        if self.row < grid_size - 1 and not grid[self.row + 1][self.col].is_barrier():\n",
    "            self.neighbors.append(grid[self.row + 1][self.col])\n",
    "        # Up\n",
    "        if self.row > 0 and not grid[self.row - 1][self.col].is_barrier():\n",
    "            self.neighbors.append(grid[self.row - 1][self.col])\n",
    "        # Right\n",
    "        if self.col < grid_size - 1 and not grid[self.row][self.col + 1].is_barrier():\n",
    "            self.neighbors.append(grid[self.row][self.col + 1])\n",
    "        # Left\n",
    "        if self.col > 0 and not grid[self.row][self.col - 1].is_barrier():\n",
    "            self.neighbors.append(grid[self.row][self.col - 1])\n",
    "\n",
    "        # Diagonals\n",
    "        if self.row < grid_size - 1 and self.col < grid_size - 1 and not grid[self.row + 1][self.col + 1].is_barrier():\n",
    "            self.neighbors.append(grid[self.row + 1][self.col + 1])\n",
    "        if self.row > 0 and self.col > 0 and not grid[self.row - 1][self.col - 1].is_barrier():\n",
    "            self.neighbors.append(grid[self.row - 1][self.col - 1])\n",
    "        if self.row < grid_size - 1 and self.col > 0 and not grid[self.row + 1][self.col - 1].is_barrier():\n",
    "            self.neighbors.append(grid[self.row + 1][self.col - 1])\n",
    "        if self.row > 0 and self.col < grid_size - 1 and not grid[self.row - 1][self.col + 1].is_barrier():\n",
    "            self.neighbors.append(grid[self.row - 1][self.col + 1])\n",
    "\n",
    "    def __lt__(self, other):\n",
    "        # This is required for the priority queue (heapq) to compare Node objects based on their f_score\n",
    "        return self.f_score < other.f_score"
   ]
  },
  {
   "cell_type": "code",
   "execution_count": 137,
   "id": "1972661d-cd00-456e-aef3-c26cc835d179",
   "metadata": {},
   "outputs": [],
   "source": [
    "# Heuristic function (Euclidean Distance)\n",
    "def heuristic(a, b):\n",
    "    return math.sqrt((a[0] - b[0]) ** 2 + (a[1] - b[1]) ** 2)"
   ]
  },
  {
   "cell_type": "code",
   "execution_count": 139,
   "id": "09a0c272-71fd-4058-ac3b-defb77d6c4af",
   "metadata": {},
   "outputs": [],
   "source": [
    "# A* algorithm implementation\n",
    "def a_star_algorithm(draw, grid, start, goal):\n",
    "    open_set = []\n",
    "    heapq.heappush(open_set, (0, start))\n",
    "    came_from = {}\n",
    "    g_score = {node: float('inf') for row in grid for node in row}\n",
    "    g_score[start] = 0\n",
    "    f_score = {node: float('inf') for row in grid for node in row}\n",
    "    f_score[start] = heuristic(start.get_pos(), goal.get_pos())\n",
    "    start.f_score = f_score[start]  # Set f_score for start node\n",
    "\n",
    "    open_set_hash = {start}\n",
    "\n",
    "    while open_set:\n",
    "        current = heapq.heappop(open_set)[1]\n",
    "        open_set_hash.remove(current)\n",
    "\n",
    "        if current == goal:\n",
    "            reconstruct_path(came_from, goal, draw)\n",
    "            goal.make_goal()\n",
    "            return True\n",
    "\n",
    "        for neighbor in current.neighbors:\n",
    "            temp_g_score = g_score[current] + 1\n",
    "\n",
    "            if temp_g_score < g_score[neighbor]:\n",
    "                came_from[neighbor] = current\n",
    "                g_score[neighbor] = temp_g_score\n",
    "                f_score[neighbor] = g_score[neighbor] + heuristic(neighbor.get_pos(), goal.get_pos())\n",
    "                neighbor.f_score = f_score[neighbor]  # Update f_score for neighbor node\n",
    "                if neighbor not in open_set_hash:\n",
    "                    heapq.heappush(open_set, (f_score[neighbor], neighbor))\n",
    "                    open_set_hash.add(neighbor)\n",
    "                    neighbor.make_open()\n",
    "\n",
    "        draw()\n",
    "\n",
    "        if current != start:\n",
    "            current.make_closed()\n",
    "\n",
    "    return False"
   ]
  },
  {
   "cell_type": "code",
   "execution_count": 141,
   "id": "451bd2eb-c003-4a38-a8fb-1d583c1c6672",
   "metadata": {},
   "outputs": [],
   "source": [
    "# Function to reconstruct the path\n",
    "def reconstruct_path(came_from, current, draw):\n",
    "    while current in came_from:\n",
    "        current = came_from[current]\n",
    "        current.make_path()\n",
    "        draw()"
   ]
  },
  {
   "cell_type": "code",
   "execution_count": 143,
   "id": "e8e01feb-85b7-46d8-be69-82b42b540258",
   "metadata": {},
   "outputs": [],
   "source": [
    "# Create the grid\n",
    "def make_grid(rows, width):\n",
    "    grid = []\n",
    "    gap = width // rows\n",
    "    for i in range(rows):\n",
    "        grid.append([])\n",
    "        for j in range(rows):\n",
    "            node = Node(i, j, gap)\n",
    "            grid[i].append(node)\n",
    "    return grid"
   ]
  },
  {
   "cell_type": "code",
   "execution_count": 145,
   "id": "ebdc3689-6a92-4706-a5ec-d32c640e97bc",
   "metadata": {},
   "outputs": [],
   "source": [
    "# Draw the grid lines\n",
    "def draw_grid(win, rows, width):\n",
    "    gap = width // rows\n",
    "    for i in range(rows):\n",
    "        pygame.draw.line(win, GRAY, (0, i * gap), (width, i * gap))\n",
    "        pygame.draw.line(win, GRAY, (i * gap, 0), (i * gap, width))"
   ]
  },
  {
   "cell_type": "code",
   "execution_count": 147,
   "id": "a9343d29-eb6f-48d9-9ada-68fc47fa3e3d",
   "metadata": {},
   "outputs": [],
   "source": [
    "# Draw the entire window\n",
    "def draw(win, grid, rows, width):\n",
    "    win.fill(WHITE)\n",
    "\n",
    "    for row in grid:\n",
    "        for node in row:\n",
    "            node.draw(win)\n",
    "\n",
    "    draw_grid(win, rows, width)\n",
    "    pygame.display.update()"
   ]
  },
  {
   "cell_type": "code",
   "execution_count": 149,
   "id": "a6449862-328a-484d-9aad-5c6a9524a41f",
   "metadata": {},
   "outputs": [],
   "source": [
    "# Get the position of the mouse click in grid coordinates\n",
    "def get_clicked_pos(pos, rows, width):\n",
    "    gap = width // rows\n",
    "    y, x = pos\n",
    "    row = y // gap\n",
    "    col = x // gap\n",
    "    return row, col\n",
    "\n",
    "def main(win, width):\n",
    "    grid = make_grid(rows, width)\n",
    "\n",
    "    start_node = None\n",
    "    goal_node = None\n",
    "\n",
    "    run = True\n",
    "    started = False\n",
    "     # Set barriers in the grid\n",
    "    for barrier in barriers:\n",
    "        row, col = barrier\n",
    "        grid[row][col].make_barrier()\n",
    "\n",
    "    while run:\n",
    "        draw(win, grid, rows, width)\n",
    "        for event in pygame.event.get():\n",
    "            if event.type == pygame.QUIT:\n",
    "                run = False\n",
    "\n",
    "            if started:\n",
    "                continue\n",
    "\n",
    "            if pygame.mouse.get_pressed()[0]:  # Left mouse button\n",
    "                pos = pygame.mouse.get_pos()\n",
    "                row, col = get_clicked_pos(pos, rows, width)\n",
    "                node = grid[row][col]\n",
    "                if not start_node and node != goal_node:\n",
    "                    start_node = node\n",
    "                    start_node.make_start()\n",
    "\n",
    "                elif not goal_node and node != start_node:\n",
    "                    goal_node = node\n",
    "                    goal_node.make_goal()\n",
    "\n",
    "            if event.type == pygame.KEYDOWN:\n",
    "                if event.key == pygame.K_SPACE and start_node and goal_node:\n",
    "                    for row in grid:\n",
    "                        for node in row:\n",
    "                            node.update_neighbors(grid)\n",
    "\n",
    "                    a_star_algorithm(lambda: draw(win, grid, rows, width), grid, start_node, goal_node)\n",
    "\n",
    "    pygame.quit()\n",
    "\n",
    "main(window, width)"
   ]
  }
 ],
 "metadata": {
  "kernelspec": {
   "display_name": "Python 3 (ipykernel)",
   "language": "python",
   "name": "python3"
  },
  "language_info": {
   "codemirror_mode": {
    "name": "ipython",
    "version": 3
   },
   "file_extension": ".py",
   "mimetype": "text/x-python",
   "name": "python",
   "nbconvert_exporter": "python",
   "pygments_lexer": "ipython3",
   "version": "3.12.4"
  }
 },
 "nbformat": 4,
 "nbformat_minor": 5
}
